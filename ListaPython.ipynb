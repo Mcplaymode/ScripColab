{
  "nbformat": 4,
  "nbformat_minor": 0,
  "metadata": {
    "colab": {
      "provenance": [],
      "authorship_tag": "ABX9TyPmjjojXF5EIAAr0Mu4rgF6",
      "include_colab_link": true
    },
    "kernelspec": {
      "name": "python3",
      "display_name": "Python 3"
    },
    "language_info": {
      "name": "python"
    }
  },
  "cells": [
    {
      "cell_type": "markdown",
      "metadata": {
        "id": "view-in-github",
        "colab_type": "text"
      },
      "source": [
        "<a href=\"https://colab.research.google.com/github/Mcplaymode/ScripColab/blob/main/ListaPython.ipynb\" target=\"_parent\"><img src=\"https://colab.research.google.com/assets/colab-badge.svg\" alt=\"Open In Colab\"/></a>"
      ]
    },
    {
      "cell_type": "code",
      "execution_count": null,
      "metadata": {
        "id": "VR2l8V1RRCFu"
      },
      "outputs": [],
      "source": [
        "numero = float(input(\"Nº 1\"))\n",
        "numero2 = float(input(\"Nº 2\"))\n",
        "soma = numero + numero2\n",
        "\n",
        "print(soma)\n"
      ]
    },
    {
      "cell_type": "code",
      "source": [
        "numero = int(input(\"Nº\"))\n",
        "#Processamento\n",
        "if numero % 2==0:\n",
        "  resultado =\"par\"\n",
        "else :\n",
        "  resultado =\"impar\"\n",
        "\n",
        "print(resultado)"
      ],
      "metadata": {
        "colab": {
          "base_uri": "https://localhost:8080/"
        },
        "id": "c4FgCHAPVXAK",
        "outputId": "86356a0f-2a47-4cda-abe0-0276fec4a680"
      },
      "execution_count": 1,
      "outputs": [
        {
          "name": "stdout",
          "output_type": "stream",
          "text": [
            "Nº4\n"
          ]
        }
      ]
    }
  ]
}